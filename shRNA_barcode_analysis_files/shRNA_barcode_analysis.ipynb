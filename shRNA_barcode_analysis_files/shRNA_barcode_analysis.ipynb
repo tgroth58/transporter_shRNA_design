{
 "cells": [
  {
   "cell_type": "code",
   "execution_count": 5,
   "id": "4ae6c9b1",
   "metadata": {},
   "outputs": [],
   "source": [
    "%matplotlib inline\n",
    "import pandas as pd\n",
    "import numpy as np\n",
    "from itertools import combinations as comb\n",
    "import matplotlib.pyplot as plt\n",
    "import seaborn as sns"
   ]
  },
  {
   "cell_type": "markdown",
   "id": "770500a1",
   "metadata": {},
   "source": [
    "# shRNA Barcode Diversity\n",
    "\n",
    "Below I'll find the number of bases which are different for every pair of shRNA barcodes\n",
    "\n",
    "I'll also create a distribution of these edit distances.  If there are any barcodes which are 1 bp different from one another, I will create a table cataloging these potential conflicts."
   ]
  },
  {
   "cell_type": "code",
   "execution_count": 41,
   "id": "e8c4d13f",
   "metadata": {},
   "outputs": [
    {
     "data": {
      "text/html": [
       "<div>\n",
       "<style scoped>\n",
       "    .dataframe tbody tr th:only-of-type {\n",
       "        vertical-align: middle;\n",
       "    }\n",
       "\n",
       "    .dataframe tbody tr th {\n",
       "        vertical-align: top;\n",
       "    }\n",
       "\n",
       "    .dataframe thead th {\n",
       "        text-align: right;\n",
       "    }\n",
       "</style>\n",
       "<table border=\"1\" class=\"dataframe\">\n",
       "  <thead>\n",
       "    <tr style=\"text-align: right;\">\n",
       "      <th></th>\n",
       "      <th>index</th>\n",
       "      <th>Barcode Sequence</th>\n",
       "      <th>id</th>\n",
       "      <th>sense</th>\n",
       "      <th>antisense</th>\n",
       "      <th>dG</th>\n",
       "      <th>ddG</th>\n",
       "      <th>efficiency</th>\n",
       "      <th>geneName</th>\n",
       "      <th>diffdG</th>\n",
       "      <th>Forward Primer</th>\n",
       "      <th>Reverse Primer</th>\n",
       "    </tr>\n",
       "  </thead>\n",
       "  <tbody>\n",
       "    <tr>\n",
       "      <th>0</th>\n",
       "      <td>CKMT1A|ENST00000413453_d4</td>\n",
       "      <td>CATGCAACCAGTCACACA</td>\n",
       "      <td>348.0</td>\n",
       "      <td>GGUAUUUGCUGACCUGUUU</td>\n",
       "      <td>AAACAGGUCAGCAAAUACC</td>\n",
       "      <td>-31.11</td>\n",
       "      <td>2.78</td>\n",
       "      <td>efficient</td>\n",
       "      <td>CKMT1A</td>\n",
       "      <td>0.61</td>\n",
       "      <td>TCAGTGATAGAGACGCTAGCGGTATTTGCTGACCTGTTTGTTAATA...</td>\n",
       "      <td>CCCAAACGCACGAATTCGAATGTGTGACTGGTTGCATGATCTCGTA...</td>\n",
       "    </tr>\n",
       "    <tr>\n",
       "      <th>1</th>\n",
       "      <td>CKMT1A|ENST00000413453_d6</td>\n",
       "      <td>ACGTCAACCAGTCACAGT</td>\n",
       "      <td>384.0</td>\n",
       "      <td>GCGACACAAUGGAUAUGAu</td>\n",
       "      <td>GUCAUAUCCAUUGUGUCGC</td>\n",
       "      <td>-31.13</td>\n",
       "      <td>2.77</td>\n",
       "      <td>efficient</td>\n",
       "      <td>CKMT1A</td>\n",
       "      <td>0.63</td>\n",
       "      <td>TCAGTGATAGAGACGCTAGCGCGACACAATGGATATGATGTTAATA...</td>\n",
       "      <td>CCCAAACGCACGAATTCGAAACTGTGACTGGTTGACGTATCTCGTA...</td>\n",
       "    </tr>\n",
       "    <tr>\n",
       "      <th>2</th>\n",
       "      <td>CKMT1A|ENST00000413453_d3</td>\n",
       "      <td>ACCACAACCAGTCACACA</td>\n",
       "      <td>336.0</td>\n",
       "      <td>GGAGACCUAUGAGGUAUUU</td>\n",
       "      <td>AAAUACCUCAUAGGUCUCC</td>\n",
       "      <td>-31.84</td>\n",
       "      <td>2.78</td>\n",
       "      <td>efficient</td>\n",
       "      <td>CKMT1A</td>\n",
       "      <td>1.34</td>\n",
       "      <td>TCAGTGATAGAGACGCTAGCGGAGACCTATGAGGTATTTGTTAATA...</td>\n",
       "      <td>CCCAAACGCACGAATTCGAATGTGTGACTGGTTGTGGTATCTCGTA...</td>\n",
       "    </tr>\n",
       "    <tr>\n",
       "      <th>3</th>\n",
       "      <td>CKMT1A|ENST00000413453_d9</td>\n",
       "      <td>TGCACAACCAGTCACAAC</td>\n",
       "      <td>426.0</td>\n",
       "      <td>GGAUCUAGAUGCCAGUAAA</td>\n",
       "      <td>UUUACUGGCAUCUAGAUCC</td>\n",
       "      <td>-31.87</td>\n",
       "      <td>2.78</td>\n",
       "      <td>efficient</td>\n",
       "      <td>CKMT1A</td>\n",
       "      <td>1.37</td>\n",
       "      <td>TCAGTGATAGAGACGCTAGCGGATCTAGATGCCAGTAAAGTTAATA...</td>\n",
       "      <td>CCCAAACGCACGAATTCGAAGTTGTGACTGGTTGTGCAATCTCGTA...</td>\n",
       "    </tr>\n",
       "    <tr>\n",
       "      <th>4</th>\n",
       "      <td>CKMT1A|ENST00000413453_d0</td>\n",
       "      <td>GTCACAACCAGTCACAGT</td>\n",
       "      <td>165.0</td>\n",
       "      <td>CCUCCGAAAGCACAACAAu</td>\n",
       "      <td>GUUGUUGUGCUUUCGGAGG</td>\n",
       "      <td>-32.25</td>\n",
       "      <td>2.61</td>\n",
       "      <td>efficient</td>\n",
       "      <td>CKMT1A</td>\n",
       "      <td>1.75</td>\n",
       "      <td>TCAGTGATAGAGACGCTAGCCCTCCGAAAGCACAACAATGTTAATA...</td>\n",
       "      <td>CCCAAACGCACGAATTCGAAACTGTGACTGGTTGTGACATCTCGTA...</td>\n",
       "    </tr>\n",
       "  </tbody>\n",
       "</table>\n",
       "</div>"
      ],
      "text/plain": [
       "                       index    Barcode Sequence     id                sense  \\\n",
       "0  CKMT1A|ENST00000413453_d4  CATGCAACCAGTCACACA  348.0  GGUAUUUGCUGACCUGUUU   \n",
       "1  CKMT1A|ENST00000413453_d6  ACGTCAACCAGTCACAGT  384.0  GCGACACAAUGGAUAUGAu   \n",
       "2  CKMT1A|ENST00000413453_d3  ACCACAACCAGTCACACA  336.0  GGAGACCUAUGAGGUAUUU   \n",
       "3  CKMT1A|ENST00000413453_d9  TGCACAACCAGTCACAAC  426.0  GGAUCUAGAUGCCAGUAAA   \n",
       "4  CKMT1A|ENST00000413453_d0  GTCACAACCAGTCACAGT  165.0  CCUCCGAAAGCACAACAAu   \n",
       "\n",
       "             antisense     dG   ddG efficiency geneName  diffdG  \\\n",
       "0  AAACAGGUCAGCAAAUACC -31.11  2.78  efficient   CKMT1A    0.61   \n",
       "1  GUCAUAUCCAUUGUGUCGC -31.13  2.77  efficient   CKMT1A    0.63   \n",
       "2  AAAUACCUCAUAGGUCUCC -31.84  2.78  efficient   CKMT1A    1.34   \n",
       "3  UUUACUGGCAUCUAGAUCC -31.87  2.78  efficient   CKMT1A    1.37   \n",
       "4  GUUGUUGUGCUUUCGGAGG -32.25  2.61  efficient   CKMT1A    1.75   \n",
       "\n",
       "                                      Forward Primer  \\\n",
       "0  TCAGTGATAGAGACGCTAGCGGTATTTGCTGACCTGTTTGTTAATA...   \n",
       "1  TCAGTGATAGAGACGCTAGCGCGACACAATGGATATGATGTTAATA...   \n",
       "2  TCAGTGATAGAGACGCTAGCGGAGACCTATGAGGTATTTGTTAATA...   \n",
       "3  TCAGTGATAGAGACGCTAGCGGATCTAGATGCCAGTAAAGTTAATA...   \n",
       "4  TCAGTGATAGAGACGCTAGCCCTCCGAAAGCACAACAATGTTAATA...   \n",
       "\n",
       "                                      Reverse Primer  \n",
       "0  CCCAAACGCACGAATTCGAATGTGTGACTGGTTGCATGATCTCGTA...  \n",
       "1  CCCAAACGCACGAATTCGAAACTGTGACTGGTTGACGTATCTCGTA...  \n",
       "2  CCCAAACGCACGAATTCGAATGTGTGACTGGTTGTGGTATCTCGTA...  \n",
       "3  CCCAAACGCACGAATTCGAAGTTGTGACTGGTTGTGCAATCTCGTA...  \n",
       "4  CCCAAACGCACGAATTCGAAACTGTGACTGGTTGTGACATCTCGTA...  "
      ]
     },
     "execution_count": 41,
     "metadata": {},
     "output_type": "execute_result"
    }
   ],
   "source": [
    "shRNA_lib=pd.read_csv('total_shRNA_constructs_withBarcodes.csv',sep='\\t',header=0)\n",
    "shRNA_lib.head()"
   ]
  },
  {
   "cell_type": "code",
   "execution_count": 14,
   "id": "f42a701e",
   "metadata": {},
   "outputs": [],
   "source": [
    "#For each pair of sequences, compute the edit distance:\n",
    "editDists=[]\n",
    "for (_,s1),(_,s2) in comb(shRNA_lib.iterrows(),2):\n",
    "    editDist=sum([i!=j for i,j in zip(s1['Barcode Sequence'],s2['Barcode Sequence'])])\n",
    "    editDists.append({'s1':s1['index'],'s1_bc':s1['Barcode Sequence'],'s2':s2['index'],'s2_bc':s2['Barcode Sequence'],'editDist':editDist})"
   ]
  },
  {
   "cell_type": "code",
   "execution_count": 15,
   "id": "32d39a56",
   "metadata": {},
   "outputs": [],
   "source": [
    "#Build DF:\n",
    "editDists=pd.DataFrame(editDists)"
   ]
  },
  {
   "cell_type": "markdown",
   "id": "39e851c3",
   "metadata": {},
   "source": [
    "## **Summary of Barcode Similarity**"
   ]
  },
  {
   "cell_type": "code",
   "execution_count": 39,
   "id": "c419f6fa",
   "metadata": {},
   "outputs": [
    {
     "data": {
      "text/plain": [
       "count    9638245\n",
       "mean          13\n",
       "std            3\n",
       "min            4\n",
       "25%           12\n",
       "50%           14\n",
       "75%           14\n",
       "max           18\n",
       "Name: editDist, dtype: object"
      ]
     },
     "execution_count": 39,
     "metadata": {},
     "output_type": "execute_result"
    }
   ],
   "source": [
    "editDists.editDist.describe().apply(lambda x: '%.0f' % x)"
   ]
  },
  {
   "cell_type": "markdown",
   "id": "d1c4a1b3",
   "metadata": {},
   "source": [
    "### Takeaways: \n",
    "\n",
    "* The mean difference amongst barcodes is **13 bp**.\n",
    "* The smallest difference between barcodes is **4 bp**.\n",
    "* The majority of barcodes (within interquartile range) have a **12-14 bp** difference.\n",
    "\n",
    "If there is a threshold for differences that is an issue, please let me know."
   ]
  },
  {
   "cell_type": "markdown",
   "id": "15157f8f",
   "metadata": {},
   "source": [
    "## Box & Whisker Plot of Barcode Differences:"
   ]
  },
  {
   "cell_type": "code",
   "execution_count": 42,
   "id": "7faddb64",
   "metadata": {},
   "outputs": [
    {
     "data": {
      "text/plain": [
       "Text(0, 0.5, 'Barcode Difference')"
      ]
     },
     "execution_count": 42,
     "metadata": {},
     "output_type": "execute_result"
    },
    {
     "data": {
      "image/png": "[encoded data removed]",
      "text/plain": [
       "<Figure size 432x288 with 1 Axes>"
      ]
     },
     "metadata": {
      "needs_background": "light"
     },
     "output_type": "display_data"
    }
   ],
   "source": [
    "plt.boxplot(editDists.editDist,patch_artist=True,boxprops=dict(facecolor='blue'))\n",
    "plt.ylabel('Barcode Difference')"
   ]
  }
 ],
 "metadata": {
  "kernelspec": {
   "display_name": "Python 3 (ipykernel)",
   "language": "python",
   "name": "python3"
  },
  "language_info": {
   "codemirror_mode": {
    "name": "ipython",
    "version": 3
   },
   "file_extension": ".py",
   "mimetype": "text/x-python",
   "name": "python",
   "nbconvert_exporter": "python",
   "pygments_lexer": "ipython3",
   "version": "3.7.11"
  }
 },
 "nbformat": 4,
 "nbformat_minor": 5
}
